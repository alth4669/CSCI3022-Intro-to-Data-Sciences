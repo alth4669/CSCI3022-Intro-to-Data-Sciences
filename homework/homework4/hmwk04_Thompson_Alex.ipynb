{
 "cells": [
  {
   "cell_type": "markdown",
   "metadata": {},
   "source": [
    "<a/ id='top'></a>\n",
    "# Homework 4: More Simulation and the Central Limit Theorem \n",
    "***\n",
    "\n",
    "**Name**: Alex Thompson\n",
    "\n",
    "***\n",
    "\n",
    "This assignment is due on Moodle by **5 PM on Friday 26 October**. Your solutions to theoretical questions should be done in Markdown/MathJax directly below the associated question.  Your solutions to computational questions should include any specified Python code and results as well as written commentary on your conclusions.  Remember that you are encouraged to discuss the problems with your instructors and classmates, but **you must write all code and solutions on your own**.\n",
    "\n",
    "**NOTES**: \n",
    "\n",
    "- Do **NOT** load or use any Python packages that are not available in Anaconda 3.6. \n",
    "- Some problems with code may be autograded.  If we provide a function API **do not** change it.  If we do not provide a function API then you're free to structure your code however you like. \n",
    "- Because you can technically evaluate notebook cells is a non-linear order, it's a good idea to do Cell $\\rightarrow$ Run All as a check before submitting your solutions.  That way if we need to run your code you will know that it will work as expected. \n",
    "- Submit only this Jupyter notebook to Moodle.  Do not compress it using tar, rar, zip, etc. \n",
    "- This should go without saying, but... For any question that asks you to calculate something, you **must show all work to receive credit**. Sparse or nonexistent work will receive sparse or nonexistent credit.\n",
    "\n",
    "---\n",
    "**Shortcuts:**  [Problem 1](#p1) | [Problem 2](#p2) | [Problem 3](#p3) | [Problem 4](#p4)\n",
    "\n",
    "---"
   ]
  },
  {
   "cell_type": "code",
   "execution_count": 1,
   "metadata": {
    "collapsed": true,
    "scrolled": true
   },
   "outputs": [],
   "source": [
    "import numpy as np\n",
    "import math\n",
    "import scipy.stats as stats\n",
    "import matplotlib.pyplot as plt\n",
    "import pandas as pd\n",
    "%matplotlib inline"
   ]
  },
  {
   "cell_type": "markdown",
   "metadata": {},
   "source": [
    "<br>\n",
    "\n",
    "---\n",
    "<a/ id='p1'></a>\n",
    "[Back to top](#top)\n",
    "### [30 points] Problem 1 - Monte Carlo Estimation of Definite Integrals\n",
    "\n",
    "One really cool application of random variables is using them to approximate integrals/area under a curve.  This method of approximating integrals is used frequently in computational science to approximate really difficult integrals that we never want to do by hand.  In this exercise you'll figure out how we can do this in practice and test your method on a relatively simple integral. "
   ]
  },
  {
   "cell_type": "markdown",
   "metadata": {},
   "source": [
    "**Part A.**  Let $X$ be a random variable representing how delicious a pie you bake is, as measured by the **Deliciousness Index** (DI).  Suppose the probability density function for $X$ is described by the raised cosine probability density function:\n",
    "\n",
    "$$\n",
    "f(x) = \\begin{cases}\n",
    "         \\dfrac{1}{\\pi}\\left(\\cos{(x)} + 1\\right) & 0 \\leq x \\leq \\pi \\\\\n",
    "         0                           & \\text{otherwise}\n",
    "         \\end{cases}\n",
    "$$\n",
    "\n",
    "A Deliciousness Index of $\\pi$ is the most delicious pie you can ever hope to create, and a DI of $0$ is the most disgusting pie you have ever tasted.  \n",
    "\n",
    "Compute **by hand**, the integral of $f(x)$ for $0 \\leq x \\leq \\dfrac{\\pi}{2}$.  Write a sentence or two to interpret your result physically, in the context of this problem set-up."
   ]
  },
  {
   "cell_type": "markdown",
   "metadata": {},
   "source": [
    "$$\n",
    "\\int_{0}^{\\frac{\\pi}{2}}f(x)dx\\\\\n",
    "\\int_{0}^{\\frac{\\pi}{2}}\\frac{1}{\\pi}(cos(x)+1)dx\\\\\n",
    "\\frac{1}{\\pi}\\int_{0}^{\\frac{\\pi}{2}}(cos(x)+1)dx\\\\\n",
    "\\frac{1}{\\pi}\\Big[ \\int_{0}^{\\frac{\\pi}{2}}cos(x)dx + \\int_{0}^{\\frac{\\pi}{2}}1dx\\Big]\\\\\n",
    "\\frac{1}{\\pi}\\Big[ sin(x)\\mid_{0}^{\\frac{\\pi}{2}} + x\\mid_0^{\\frac{\\pi}{2}}\\Big]\\\\\n",
    "\\frac{1}{\\pi}\\Big[\\Big( sin(\\frac{\\pi}{2})-sin(0)\\Big) + (\\frac{\\pi}{2} - 0) \\Big]\\\\\n",
    "\\frac{1}{\\pi}\\Big[(1-0) + \\frac{\\pi}{2}\\Big]\\\\\n",
    "\\frac{1}{\\pi}[1+\\frac{\\pi}{2}]\\\\\n",
    "\\frac{1}{\\pi}+\\frac{1}{2} = \\frac{2 + \\pi}{2\\pi}\n",
    "$$"
   ]
  },
  {
   "cell_type": "markdown",
   "metadata": {},
   "source": [
    "This result represents the total probability that our pie has a Delciousness Index equal to or less than$\\frac{\\pi}{2}$."
   ]
  },
  {
   "cell_type": "markdown",
   "metadata": {},
   "source": [
    "**Part B.** Suppose we sample a random variable $X$ from $U(0,\\frac{\\pi}{2})$ and another random variable $Y$ from $U(0,1)$ and think of them as $x$- and $y$-coordinates of a point in the box $[0,\\frac{\\pi}{2}] \\times [0,1]$.  If we compute the ratio of points that fall under the curve $f(x)$ to the total points sampled, what does this value estimate? "
   ]
  },
  {
   "cell_type": "markdown",
   "metadata": {},
   "source": [
    "This is estimating the ratio of the area under the curve $f(x)$ to the total area of the box where we are sampling points:\n",
    "$$\n",
    "\\text{box area}=1\\times \\frac{\\pi}{2} = \\frac{\\pi}{2}\\\\\n",
    "\\text{area under curve}=\\int_{0}^{\\frac{\\pi}{2}}f(x)dx = \\frac{2 + \\pi}{2\\pi}\\\\\n",
    "\\frac{\\text{area under curve}}{\\text{box area}}=\\frac{\\frac{2 + \\pi}{2\\pi}}{\\frac{\\pi}{2}}=\\frac{2 + \\pi}{2\\pi}(\\frac{2}{\\pi}) = \\frac{4 + 2\\pi}{2\\pi^2}\n",
    "$$"
   ]
  },
  {
   "cell_type": "markdown",
   "metadata": {},
   "source": [
    "**Part C.** How could we modify the process outlined in **Part B** so that our estimator estimates the value of the desired integral?  If you need inspiration, check out the in-class notebook on Stochastic Simulation (#4), specifically, the exercise where we estimated $\\pi$!"
   ]
  },
  {
   "cell_type": "markdown",
   "metadata": {},
   "source": [
    "The estimator in Part B is estimating:\n",
    "$$\n",
    "\\frac{\\text{value of the integral}}{\\frac{\\pi}{2}}\n",
    "$$\n",
    "More generally, the process in Part B is estimating:\n",
    "$$\n",
    "\\frac{\\text{value of the integral}}{\\text{upper bound of desired integral}}\n",
    "$$\n",
    "\n",
    "We can simply multiply this estimate by whatever constant we set at the upper bound to get an estimate of the value of the desired integral."
   ]
  },
  {
   "cell_type": "markdown",
   "metadata": {},
   "source": [
    "**Part D.** Write a function `integrate` to compute an approximation to the definition integral $\\int_0^{\\text{ub}} f(x)dx$.  Your function should take as arguments:\n",
    "1. `num_samples` -- the number of points to sample,\n",
    "2. `ub` -- a number between $0$ and $\\pi$ that is the upper bound of the integral, and\n",
    "3. `isPlot` -- a Boolean flag for whether or not to display a plot of the results.\n",
    "\n",
    "Your function should return an approximation of the definite integral by sampling $X$ from $U(0,\\text{ub})$ and $Y$ from $U(0,1)$. For each random draw $(X,Y)$, define the random variable $Z$ that represents whether or not the sampled $Y$ value is less than $f(X)$ for the corresponding $X$ value.\n",
    "\n",
    "Your function should perform three tasks: \n",
    "\n",
    "1. return the estimate of the value of the integral,\n",
    "2. return the sample variance of the random variable $Z$ being simulated, using the np.var function, and\n",
    "3. if `isPlot` is True, plot the curve $f(x)$ as well as the location of the points $(X,Y)$, colored according to whether they fall above or below the curve. \n",
    "\n",
    "Run your simulation with `isPlot=True` and `ub=`$\\frac{\\pi}{2}$ for 1,000 samples so we can see your plot. Then, run your simulation (with `isPlot=False`) with at least 10,000 samples and estimate the value of the given integral.  Does your estimate agree with the exact value of the integral you computed in **Part A**? "
   ]
  },
  {
   "cell_type": "markdown",
   "metadata": {},
   "source": []
  },
  {
   "cell_type": "code",
   "execution_count": 221,
   "metadata": {},
   "outputs": [
    {
     "name": "stdout",
     "output_type": "stream",
     "text": [
      "(0.82152647891373098, 0.249471)\n",
      "(0.81802470266240712, 0.24956857802151031)\n"
     ]
    },
    {
     "data": {
      "image/png": "[encoded data removed]",
      "text/plain": [
       "<matplotlib.figure.Figure at 0x28f180d9898>"
      ]
     },
     "metadata": {},
     "output_type": "display_data"
    }
   ],
   "source": [
    "def integrate(num_samples,ub,isPlot):\n",
    "    X = np.random.uniform(0,ub,size=num_samples)\n",
    "    Y = np.random.uniform(0,1,size=num_samples)\n",
    "    Z = np.zeros(num_samples)\n",
    "    for ii in range(num_samples):\n",
    "        if (Y[ii] < ((1/math.pi)*(math.cos(X[ii])+1))):\n",
    "            Z[ii] = 1\n",
    "        \n",
    "    if isPlot:\n",
    "        fig, ax = plt.subplots(figsize=(16,6))\n",
    "        for ii in range(num_samples):\n",
    "            if (Z[ii]==1):\n",
    "                below=plt.scatter(X[ii],Y[ii], color=\"green\")\n",
    "            else:\n",
    "                above=plt.scatter(X[ii],Y[ii], color=\"red\")\n",
    "        ax.set_title(\"Points Above/Below a PDF Curve\",fontsize=20)\n",
    "        ax.set_xlabel(\"X\",fontsize=16)\n",
    "        ax.set_ylabel(\"Y\",fontsize=16)\n",
    "        plt.legend((below,above),\n",
    "                   ('below curve','above curve'),\n",
    "                   loc='lower left',\n",
    "                   fontsize=10)\n",
    "    return (np.sum(Z)/num_samples)*ub,np.var(Z)\n",
    "\n",
    "print(integrate(1000, (math.pi)/2, True))\n",
    "print(integrate(10000000,(math.pi)/2, False))"
   ]
  },
  {
   "cell_type": "markdown",
   "metadata": {},
   "source": [
    "Although I did run the above code for 10,000 samples, I wasn't quite satisfied with the results so I decided to have a much larger sample size. As I increased the sample size, the estimate agreed more and more closely with the exact value of the integral calculated in part A. With a sample size of 10 million data points, we estimated the value of the integral to be 0.81832 compared to the exact calculation which is roughly 0.81831."
   ]
  },
  {
   "cell_type": "markdown",
   "metadata": {},
   "source": [
    "**Part E.** In the simulation above, what is distribution of the random variable $Z$ that we're actually sampling? What is/are the parameters of this distribution?  "
   ]
  },
  {
   "cell_type": "markdown",
   "metadata": {},
   "source": [
    "Given that Z can only take on two values (0 or 1 depending on whether or not is is above or below the curve), it will follow a Bernoulli Distribution with parameter $p=f(x)$ for $0 \\leq x \\leq \\pi$."
   ]
  },
  {
   "cell_type": "markdown",
   "metadata": {},
   "source": [
    "**Part F.**  Compute the expected value of the random variable you described in **Part E** by hand.  Does this value agree with the exact value of the integral you computed in **Part A** and the estimated value you simulated in **Part D**? "
   ]
  },
  {
   "cell_type": "markdown",
   "metadata": {},
   "source": [
    "The expected value of $Z$ is equal to the ratio of the area of the integral to the area of the entire box sampled, since this represents the probability of a point falling under the curve or not. This value is represented by:\n",
    "$$\n",
    "\\frac{\\int_{0}^{ub}f(x)dx}{1\\times ub}\\\\\n",
    "$$\n",
    "\n",
    "Reusing the derivation of the integral from part A, we get:\n",
    "\n",
    "$$\n",
    "\\frac{\\frac{1}{\\pi}\\Big[ sin(x)\\mid_{0}^{ub} + x\\mid_0^{ub}\\Big]}{ub}\\\\\n",
    "\\frac{\\frac{1}{\\pi}\\Big[\\Big( sin(ub)-sin(0)\\Big) + (ub - 0) \\Big]}{ub}\\\\\n",
    "\\frac{\\Big[sin(ub) + ub\\Big]}{\\pi ub}\\\\\n",
    "$$\n",
    "\n",
    "Plugging in $\\frac{\\pi}{2}$ for $ub$, we get:\n",
    "\n",
    "$$\n",
    "\\frac{\\Big[sin(\\frac{\\pi}{2}) + \\frac{\\pi}{2}\\Big]}{\\pi (\\frac{\\pi}{2})}\\\\\n",
    "\\frac{1+\\frac{\\pi}{2}}{\\frac{\\pi^2}{2}}\\\\\n",
    "\\frac{2+\\pi}{\\pi^2}\n",
    "$$\n",
    "\n",
    "This is not in agreement with either the exact value calculated in part A or the estimated value in part D. This is because $Z$ is not modeling the value of the integral, but rather the ratio of the integral to the area of the box. Interestingly enough, this is in agreement with our answer to part B."
   ]
  },
  {
   "cell_type": "markdown",
   "metadata": {},
   "source": [
    "**Part G.** Compute the variance of the random variable you described in **Part E** by hand.  Does this value agree with the sample variance observed in your simulation for **Part D**? "
   ]
  },
  {
   "cell_type": "markdown",
   "metadata": {
    "collapsed": true
   },
   "source": []
  },
  {
   "cell_type": "code",
   "execution_count": null,
   "metadata": {
    "collapsed": true
   },
   "outputs": [],
   "source": []
  },
  {
   "cell_type": "markdown",
   "metadata": {},
   "source": [
    "<br>\n",
    "\n",
    "---\n",
    "<a/ id='p2'></a>\n",
    "[Back to top](#top)\n",
    "### [25 points] Problem 2 - Mmmm... Donuts...\n",
    "\n",
    "<img src=\"http://astrokentico.s3.amazonaws.com/rojakdaily/media/1nichoras/homer%20simpson%20krispy%20kreme/main.jpg?ext=.jpg\" style=\"width:300px;\"/>\n",
    "\n",
    "You bring many donuts (or _doughnuts_, if you will) to work to share with your coworkers at the Boulder Nuclear Power Planet. But due to the high levels of radiation there, they must be inspected for safety. In particular, if the mean level of radiation in a sample from your batch of donuts is above [200 mSv (millisievert)](#rad), then they are deemed unsafe and you must throw the whole batch away.\n",
    "\n",
    "You know that historically donuts at the power plant have, on average, 190 mSv of radiation, with a standard deviation of 40 mSv. To test the donut radiation levels, you take the donut receipt and pick every fifth donut off it, and sample the radiation levels of those donuts. You end up sampling the radiation levels of 36 donuts out of the batch."
   ]
  },
  {
   "cell_type": "markdown",
   "metadata": {},
   "source": [
    "**Part A.** What is the probability that a donut batch is deemed unsafe?  You should at the very least set up and justify your calculation by hand (in Markdown/Mathjax), before executing any calculations in Python."
   ]
  },
  {
   "cell_type": "markdown",
   "metadata": {},
   "source": [
    "Radiation$(R)$ follows a normal distribution $R\\sim N(\\mu,\\sigma^2)$ where $\\mu=190$ and $\\sigma=40$. By the Central Limit Theorem, we can say the mean radiation of a sample of donuts also follows a normal distribution:\n",
    "$$\n",
    "(\\bar{R})\\sim N(\\mu,\\frac{\\sigma^2}{n})\n",
    "$$\n",
    "Based on the stipulations of the problem, we know that a batch of donuts is unsafe if $\\bar{R}\\gt 200$. This means we are looking for $P(\\bar{R}\\gt200)$.\n",
    "\n",
    "$$\n",
    "P(\\bar{R}\\gt200) = 1-P(\\bar{R}\\leq200)\\\\\n",
    "$$\n",
    "\n",
    "Using Box Muller Transormations in which $\\bar{R}=200$ and $n=36$:\n",
    "\n",
    "$$\n",
    "Z=\\frac{\\bar{R}-\\mu}{\\frac{\\sigma}{\\sqrt{n}}} = \\frac{200-190}{\\frac{40}{6}} = \\frac{3}{2}\n",
    "$$\n",
    "\n",
    "Therefore:\n",
    "\n",
    "$$\n",
    "P(\\bar{R}\\gt200) =1-P(\\bar{R}\\leq200)\\\\\n",
    "                 =1-P(Z\\leq\\frac{3}{2})\\\\\n",
    "                 =1-\\Phi(3/2)\\\\\n",
    "                 =1-stats.norm.cdf(\\frac{3}{2})\\text{ (in python. see execution of this code in the cell below)}\n",
    "$$"
   ]
  },
  {
   "cell_type": "code",
   "execution_count": 31,
   "metadata": {},
   "outputs": [
    {
     "data": {
      "text/plain": [
       "0.066807201268858085"
      ]
     },
     "execution_count": 31,
     "metadata": {},
     "output_type": "execute_result"
    }
   ],
   "source": [
    "1-stats.norm.cdf(3/2)"
   ]
  },
  {
   "cell_type": "markdown",
   "metadata": {},
   "source": [
    "There is roughly a 0.0668 probability that a donut batch is deemed unsafe."
   ]
  },
  {
   "cell_type": "markdown",
   "metadata": {},
   "source": [
    "**Part B.** You really do not want to throw away donuts that frequently, so you propose to store the donuts in a lead-lined donut box. But lead also is not very good for your health, so you are motivated to use the least amount of lead possible. What is the maximum mean amount of radiation $\\mu$ for our donuts to have such that the probability that we will throw donuts out due to safety concerns is at most 0.001?\n",
    "\n",
    "Calculate this **by hand**, using Python only to perform arithmetic operations and compute critical values of a standard normal random variable."
   ]
  },
  {
   "cell_type": "markdown",
   "metadata": {},
   "source": [
    "Via Box Muller Transformations, we already know that Z values are modeled by:\n",
    "\n",
    "$$\n",
    "Z=\\frac{\\bar{R}-\\mu}{\\frac{\\sigma}{\\sqrt{n}}}\n",
    "$$\n",
    "\n",
    "The sample mean threshold for an unsafe batch is 200, $(\\bar{R})$. Therefore:\n",
    "\n",
    "$$\n",
    "Z_\\alpha=\\frac{200-\\mu}{\\frac{\\sigma}{\\sqrt{n}}}\n",
    "$$\n",
    "\n",
    "where $\\alpha$ is the maximum allowed probability of throwing away a batch of donuts. For this problem, $\\alpha=.001$. Plugging into the above equation:\n",
    "\n",
    "$$\n",
    "Z_.001=\\frac{200-\\mu}{\\frac{\\sigma}{\\sqrt{n}}}\\\\\n",
    "Z_.001\\frac{\\sigma}{\\sqrt{n}}=200-\\mu\\\\\n",
    "\\mu=200-Z_.001\\frac{\\sigma}{\\sqrt{n}}\\\\\n",
    "   =200-Z_.001\\frac{40}{6}\\\\\n",
    "   =200-stats.norm.ppf(1-.001)\\frac{40}{6}\\text{ (in python. see execution of this code in the cell below)}\n",
    "$$"
   ]
  },
  {
   "cell_type": "code",
   "execution_count": 220,
   "metadata": {},
   "outputs": [
    {
     "data": {
      "text/plain": [
       "179.39845129221459"
      ]
     },
     "execution_count": 220,
     "metadata": {},
     "output_type": "execute_result"
    }
   ],
   "source": [
    "200-stats.norm.ppf(1-.001)*(40/6)"
   ]
  },
  {
   "cell_type": "markdown",
   "metadata": {},
   "source": [
    "Assuming a standard deviation of 40 mSv and a sample size of 36 donuts, the maximum mean for donut radiation is roughly 179.398 mSv."
   ]
  },
  {
   "cell_type": "markdown",
   "metadata": {},
   "source": [
    "**Part C.**  Your supervisor at the plant decides that serving up donuts in a lead-lined box is a bad idea. Fair enough.\n",
    "\n",
    "But she is still imposing the requirement that the probability of a batch of donuts being rejected must be less than 0.001. Suppose the mean and standard deviation are at their original values of $\\mu = 190$ mSv and $\\sigma = 40$ mSv. What is the minimum sample size to satisfy this requirement?\n",
    "\n",
    "Calculate this **by hand**, using Python only to perform arithmetic operations and compute critical values of a standard normal random variable."
   ]
  },
  {
   "cell_type": "markdown",
   "metadata": {},
   "source": [
    "In Part C, we determined:\n",
    "$$\n",
    "Z_.001=\\frac{200-\\mu}{\\frac{\\sigma}{\\sqrt{n}}}\n",
    "$$\n",
    "\n",
    "This can be rearranged to solve for $n$ rather than $\\mu$ and results in:\n",
    "\n",
    "$$\n",
    "n=\\frac{(Z_.001\\sigma)^2}{(200-\\mu)^2}\n",
    "$$\n",
    "\n",
    "Plugging in our values for $\\mu$ and $\\sigma$ results in:\n",
    "$$\n",
    "n=\\frac{(40Z_.001)^2}{(200-190)^2}=\\frac{(40Z_.001)^2}{100}\n",
    "$$\n",
    "\n",
    "This results is calculated in the below python script and results in a minimum sample size of 153 donuts required."
   ]
  },
  {
   "cell_type": "code",
   "execution_count": 64,
   "metadata": {},
   "outputs": [
    {
     "data": {
      "text/plain": [
       "152.79257129733185"
      ]
     },
     "execution_count": 64,
     "metadata": {},
     "output_type": "execute_result"
    }
   ],
   "source": [
    "((40*stats.norm.ppf(1-.001))**2)/100"
   ]
  },
  {
   "cell_type": "markdown",
   "metadata": {},
   "source": [
    "Need at least 153 donuts sampled."
   ]
  },
  {
   "cell_type": "markdown",
   "metadata": {},
   "source": [
    "**Part D.** Can you think of any potential issues with using a normal distribution to model the radiation content of our donuts?"
   ]
  },
  {
   "cell_type": "markdown",
   "metadata": {},
   "source": [
    "The biggest reason to not use a normal distribution is because normal distributions allow for the possibility of both incredibly high and low values, stretching from negative infinity to positive infinity. In reality, this is an impossiblity for many real world values we may want to measure. For instance, donut radiation cannot take negative values, meaning that a normal distribution is not entirely accurate for modeling it. This is also an issue for values that cannot exceed a certain threshold, such as grades in this class."
   ]
  },
  {
   "cell_type": "markdown",
   "metadata": {},
   "source": [
    "<br>\n",
    "\n",
    "---\n",
    "<a/ id='p3'></a>\n",
    "[Back to top](#top)\n",
    "### [20 points] Problem 3 - Snappy McChatterson over here\n",
    "\n",
    "**Part A:** Your friends are really texting a lot of messages to your Snap Chat. You start your stopwatch and record the time when each Snap Chat text message comes in. The data are found in `SnappedChats.csv`.\n",
    "\n",
    "Load them in using whatever method you prefer, compute the time span between successive snaps, and plot a density histogram of those inter-snap arrival times.\n",
    "\n",
    "Your histogram should be gold with black edges (sko buffs) and have 50 bins. Be sure to label your axes and include a legend.\n"
   ]
  },
  {
   "cell_type": "code",
   "execution_count": 41,
   "metadata": {},
   "outputs": [
    {
     "data": {
      "text/html": [
       "<div>\n",
       "<style>\n",
       "    .dataframe thead tr:only-child th {\n",
       "        text-align: right;\n",
       "    }\n",
       "\n",
       "    .dataframe thead th {\n",
       "        text-align: left;\n",
       "    }\n",
       "\n",
       "    .dataframe tbody tr th {\n",
       "        vertical-align: top;\n",
       "    }\n",
       "</style>\n",
       "<table border=\"1\" class=\"dataframe\">\n",
       "  <thead>\n",
       "    <tr style=\"text-align: right;\">\n",
       "      <th></th>\n",
       "      <th>snaps</th>\n",
       "    </tr>\n",
       "  </thead>\n",
       "  <tbody>\n",
       "    <tr>\n",
       "      <th>0</th>\n",
       "      <td>18.624919</td>\n",
       "    </tr>\n",
       "    <tr>\n",
       "      <th>1</th>\n",
       "      <td>36.219692</td>\n",
       "    </tr>\n",
       "    <tr>\n",
       "      <th>2</th>\n",
       "      <td>51.473715</td>\n",
       "    </tr>\n",
       "    <tr>\n",
       "      <th>3</th>\n",
       "      <td>77.175829</td>\n",
       "    </tr>\n",
       "    <tr>\n",
       "      <th>4</th>\n",
       "      <td>104.218201</td>\n",
       "    </tr>\n",
       "  </tbody>\n",
       "</table>\n",
       "</div>"
      ],
      "text/plain": [
       "        snaps\n",
       "0   18.624919\n",
       "1   36.219692\n",
       "2   51.473715\n",
       "3   77.175829\n",
       "4  104.218201"
      ]
     },
     "execution_count": 41,
     "metadata": {},
     "output_type": "execute_result"
    }
   ],
   "source": [
    "file_name = \"SnappedChats.csv\"\n",
    "snapChats= pd.read_csv(file_name)\n",
    "snapChats.head()"
   ]
  },
  {
   "cell_type": "code",
   "execution_count": 263,
   "metadata": {},
   "outputs": [
    {
     "data": {
      "text/plain": [
       "<matplotlib.text.Text at 0x28f0af03898>"
      ]
     },
     "execution_count": 263,
     "metadata": {},
     "output_type": "execute_result"
    },
    {
     "data": {
      "image/png": "[encoded data removed]",
      "text/plain": [
       "<matplotlib.figure.Figure at 0x28f0d3c9e48>"
      ]
     },
     "metadata": {},
     "output_type": "display_data"
    }
   ],
   "source": [
    "a = np.zeros(len(snapChats))\n",
    "for ii in range(len(snapChats)):\n",
    "    a[ii] = snapChats.iloc[ii][\"snaps\"]-snapChats.iloc[ii-1][\"snaps\"]\n",
    "inter_arrivals=a[1:]\n",
    "inter_arrivals\n",
    "my_bins=range(0,100,2)\n",
    "fig, ax = plt.subplots(figsize=(8,4))\n",
    "ax.hist(inter_arrivals,bins=my_bins,facecolor=\"gold\",edgecolor=\"black\");\n",
    "ax.set_title('Inter-Snap Chat Arrival Times',fontsize=20)\n",
    "ax.set_xlabel('Time Between Snap Chats (s)',fontsize=16)\n",
    "ax.set_ylabel('Frequency',fontsize=16)"
   ]
  },
  {
   "cell_type": "markdown",
   "metadata": {},
   "source": [
    "**Part B:** Compute a 90% confidence interval (to 4 decimal places) for the mean of the inter-snap arrival time. If you use any theorem(s) in your calculation, be sure to state what they are and why the theorem(s) can be applied. "
   ]
  },
  {
   "cell_type": "markdown",
   "metadata": {},
   "source": []
  },
  {
   "cell_type": "code",
   "execution_count": 111,
   "metadata": {},
   "outputs": [
    {
     "name": "stdout",
     "output_type": "stream",
     "text": [
      "21.9161801557 24.9310730382\n"
     ]
    }
   ],
   "source": [
    "xbar=inter_arrivals.mean()\n",
    "n=len(inter_arrivals)\n",
    "std=inter_arrivals.std()\n",
    "lower = xbar - stats.norm.ppf(1-.05)*(std/math.sqrt(n))\n",
    "upper = xbar + stats.norm.ppf(1-.05)*(std/math.sqrt(n))\n",
    "print(lower,upper)"
   ]
  },
  {
   "cell_type": "code",
   "execution_count": 120,
   "metadata": {},
   "outputs": [
    {
     "name": "stdout",
     "output_type": "stream",
     "text": [
      "(21.916180155678624, 24.93107303824619)\n"
     ]
    }
   ],
   "source": [
    "def confidence_interval(sample_mean,conf_level,std,sample_size):\n",
    "    alpha = 1-conf_level\n",
    "    lower = sample_mean-stats.norm.ppf(1-alpha/2)*(std/math.sqrt(sample_size))\n",
    "    upper = sample_mean+stats.norm.ppf(1-alpha/2)*(std/math.sqrt(sample_size))\n",
    "    return lower,upper\n",
    "\n",
    "bound=confidence_interval(xbar,.9,std,n)\n",
    "print(bound)"
   ]
  },
  {
   "cell_type": "markdown",
   "metadata": {},
   "source": [
    "We can use the following formula for calculating confidence intervals:\n",
    "$$\n",
    "[\\bar{X}\\pm z_{\\frac{\\alpha}{2}}\\frac{\\sigma}{\\sqrt{n}}]\n",
    "$$\n",
    "where $\\bar{X}$ is the sample mean, $n$ is the sample size, $\\alpha$ is the $(1-\\alpha)$ confidence percentage, and $\\sigma$ is the standard deviation of the population. This formula uses primarily the Central Limit Theorem (CLT) and Box Muller Transformations (BMT). BMT allows us to standardize the population distribution to a standard normal distribution. This enables us to use standard normal critical values. The CLT states that for sufficiently large sample sizes, the sample mean follows a standard normal distribution $N(\\mu, \\frac{(\\sigma)^2}{n})$. Here, the sample size is nearly 100 and we can reasonably assume that the sample mean for inter-arrival times of snap chats follows this distribution. Using BMT, we can standardize this distribution with the appropriate parameters. We can then rearrange:\n",
    "$$\n",
    "P(-z_{\\frac{\\alpha}{2}}\\leq Z \\leq z_{\\frac{\\alpha}{2}}) = P(-z_{\\frac{\\alpha}{2}}\\leq \\frac{\\bar{X}-\\mu}{\\frac{\\sigma}{\\sqrt{n}}} \\leq z_{\\frac{\\alpha}{2}})\n",
    "$$\n",
    "into:\n",
    "$$\n",
    "P(\\bar{X}-z_{\\frac{\\alpha}{2}}\\frac{\\sigma}{\\sqrt{n}} \\leq \\mu \\leq \\bar{X}+z_{\\frac{\\alpha}{2}}\\frac{\\sigma}{\\sqrt{n}})\n",
    "$$\n",
    "which is the same as the above formula.\n",
    "\n",
    "The above python function \"confidence_interval\" performs this calculation. The resulting 90% confidence interval is (21.9162, 24.9311)."
   ]
  },
  {
   "cell_type": "markdown",
   "metadata": {},
   "source": [
    "**Part C:** Speculate: what would happen if you hadn't included all the data in your confidence interval calculation above? Specifically, if you used only 30 of your data points to compute a confidence interval, would it be wider or less wide? Why?"
   ]
  },
  {
   "cell_type": "markdown",
   "metadata": {},
   "source": [
    "Using less data will result in a greater range for the calculated confidence interval. Looking at the equation above, we can see that the confidence interval will always be centered on $\\bar{X}$ and span outward in both directions by the quantity $z_{\\frac{\\alpha}{2}}\\frac{\\sigma}{\\sqrt{n}}$. This second term determines how big the range of the interval is. Since $n$ is in the denominator of the faction of this term, it will increase if $n$ is smaller and decrease if $n$ is larger. Therefore, if we used only 30 of the data points in our sample to compute the confidence interval, it would be noticably wider compared to the one calculated for all of the data."
   ]
  },
  {
   "cell_type": "markdown",
   "metadata": {},
   "source": [
    "**Part D:** Write a function to confirm what you have written above. For each value of $n$ between $30$ and the total number of data points, compute a 90% CI using the first $n$ inter-arrival times. Plot the CIs (vertical axis) against $n$ (horizontal axis). Plot the means as black X symbols, with vertical \"errorbars\" for the CIs colored gold. See Matplotlib's [errorbar](https://matplotlib.org/api/_as_gen/matplotlib.pyplot.errorbar.html) plot type. "
   ]
  },
  {
   "cell_type": "code",
   "execution_count": 227,
   "metadata": {},
   "outputs": [
    {
     "data": {
      "image/png": "[encoded data removed]",
      "text/plain": [
       "<matplotlib.figure.Figure at 0x28f15100ba8>"
      ]
     },
     "metadata": {},
     "output_type": "display_data"
    }
   ],
   "source": [
    "def confidence_interval_samples(num_samples,conf_level,arrival_times):\n",
    "    plt.figure(figsize=(12,6))\n",
    "    plt.suptitle('90% Confidence Intervals on Vaying Sample Size',fontsize=20)\n",
    "    plt.xlabel('Sample Size', fontsize=16)\n",
    "    plt.ylabel('Arrival Times (s)', fontsize=16)\n",
    "    for ii in range(29,num_samples,1):\n",
    "        plt.errorbar(ii+1,arrival_times[:ii].mean(),stats.norm.ppf(1-(1-conf_level)/2)*(std/math.sqrt(ii+1)),0,\n",
    "                     fmt='kX',ecolor=\"gold\")\n",
    "        \n",
    "confidence_interval_samples(99,.9,inter_arrivals)"
   ]
  },
  {
   "cell_type": "markdown",
   "metadata": {},
   "source": [
    "<br>\n",
    "\n",
    "---\n",
    "<a/ id='p4'></a>\n",
    "[Back to top](#top)\n",
    "### [25 points] Problem 4 - Not-so-Easy Peasy Plinko \n",
    "\n",
    "[Plinko](http://priceisright.wikia.com/wiki/Plinko), the shining jewel of the gameshow [Price is Right](https://en.wikipedia.org/wiki/The_Price_Is_Right), is a staple of American culture.  Luckily for us, it's also chalk-full of interesting ideas from probability and statistics. The game involves dropping a disc onto an inclined board of pegs and letting it bounce around until it lands in a bin with an associated cash value. Players get to drop some number of discs down the Plinko board and keep their winnings.\n",
    "\n",
    "In class we looked at a simplified version of Plinko:  \n",
    "\n",
    "![](http://www.cs.colorado.edu/~tonyewong/home/resources/plinko/plinko1.png)\n",
    "\n",
    "In real life, Plinko has boundaries, positioned symmetrically around the center $c$ at positions $\\ell$ and $r$ s.t. $|c-\\ell| = |c+r|$. The effect of the boundaries are that when the Plinko disc hits the boundary, it can only move back toward the center. In other words, if the disc hits the boundary at $\\ell$, it can only go right at that level. Likewise, if the disc hits the boundary at $r$, it can only go left at that level. \n",
    "\n",
    "For instance, the following board depicts a Plinko game with boundaries at $0.5$ (halfway between the centers of Buckets 0 and 1) and $5.5$ (halfway between Buckets 5 and 6)  The red pegs indicate boundary pegs on which the disc always moves toward the center.   \n",
    "\n",
    "![](http://www.cs.colorado.edu/~tonyewong/home/resources/plinko/plinko2.png)\n"
   ]
  },
  {
   "cell_type": "markdown",
   "metadata": {},
   "source": [
    "**Part A**: First, let's consider the case without boundaries. \n",
    "\n",
    "**[1]** Write a simulator of Plinko that models the disc moving through each of the 6 rows of pegs to its final destination in one of the 7 bins. Let $X$ be the random variable corresponding to the Bucket that the disc lands in. Run your simulation for at least 10,000 trials and plot a density histogram estimate of the PMF of $X$ when the probability of moving left when hitting a peg is equal to `p_right = 0.5`. Note that in this set-up, you must always drop the disc above bin 3.\n",
    "\n",
    "Your code should take as arguments:\n",
    "* `n` -- number of Plinko trials\n",
    "* `p_right` -- the probability of bouncing right at any given peg\n",
    "\n",
    "Your code should return some kind of an array-like object that can be used to plot a histogram of the results of your `n` Plinko games.\n",
    "\n",
    "**[2]** Then, plot a density histogram of the results.  Run your simulation for at least 10,000 trials.  The bins should be centered above the corresponding bin numbers, and axes should be labeled appropriately."
   ]
  },
  {
   "cell_type": "code",
   "execution_count": 257,
   "metadata": {},
   "outputs": [
    {
     "data": {
      "text/plain": [
       "<matplotlib.text.Text at 0x28f0aa05da0>"
      ]
     },
     "execution_count": 257,
     "metadata": {},
     "output_type": "execute_result"
    },
    {
     "data": {
      "image/png": "[encoded data removed]",
      "text/plain": [
       "<matplotlib.figure.Figure at 0x28f0af276a0>"
      ]
     },
     "metadata": {},
     "output_type": "display_data"
    }
   ],
   "source": [
    "def plinko_drop(n,p_right):\n",
    "    results = np.zeros(n)\n",
    "    for ii in range(n):\n",
    "        pos = 3\n",
    "        for jj in range(6):\n",
    "            pos += np.random.choice([-.5,.5],p=[1-p_right,p_right])\n",
    "        results[ii] = pos\n",
    "    return results\n",
    "\n",
    "results = plinko_drop(10000,.5)\n",
    "bins = range(8)\n",
    "fig, ax = plt.subplots(figsize=(8,4))\n",
    "ax.hist(results,bins=bins,align='left',normed=True,facecolor=\"gold\",edgecolor=\"black\");\n",
    "ax.set_title('Plinko Bin Reulsts(Normalized)',fontsize=20)\n",
    "ax.set_xlabel('Final Bin',fontsize=16)\n",
    "ax.set_ylabel('Relative Frequency P(bin=X)',fontsize=16)"
   ]
  },
  {
   "cell_type": "markdown",
   "metadata": {},
   "source": [
    "**Part B**: Let $X$ be the random variable corresponding to the Bucket that the disc lands in for the situation in **Part A**.  Write down the **true** PMF for $X$. (**Hint**: It might be helpful to reflect back on the discussion from Lecture 11). \n",
    "\n",
    "**Then**, check that your empirical (estimated) probabilities for landing in Bucket 0, 1, 2, or 3 compare to the true probabilities. Comment on whether or not they agree, and be sure to clearly state what the probabilities you've calculated are."
   ]
  },
  {
   "cell_type": "markdown",
   "metadata": {
    "collapsed": true
   },
   "source": [
    "$X$ is determined by the results of consecutive Bernoulli trials, speficially trials in which the disc can go either left or right. We discussed in lecture that the sum of a Bernoulli RV is described by a Binomial Distribution. In particular, this Plinko game is modled by:\n",
    "$$\n",
    "Bin(n=6, p=0.5) = {n \\choose k}p^k(1-p)^{n-k} \\text{ for } 0\\leq k \\leq 6\n",
    "$$\n",
    "where $k$ is the number of times the Plinko disk falls to the right. This works for describing the result $X$ because each bin is associated with a unique number of times the disk decides to fall right:\n",
    "$$\n",
    "X=0\\rightarrow k=0\\\\\n",
    "X=1\\rightarrow k=1\\\\\n",
    "X=2\\rightarrow k=2\\\\\n",
    "X=3\\rightarrow k=3\\\\\n",
    "X=4\\rightarrow k=4\\\\\n",
    "X=5\\rightarrow k=5\\\\\n",
    "X=6\\rightarrow k=6\n",
    "$$\n",
    "The probablities for $X=0,1,2,3$ are shown below:\n",
    "\n",
    "$\n",
    "P(X=0, k=0) = {6 \\choose 0}.5^{0}(1-.5)^{6-0} = \\frac{6!}{(6-0)!0!}.5^{0}(1-.5)^{6-0} = 0.015625\\\\\n",
    "P(X=1, k=1) = {6 \\choose 1}.5^{1}(1-.5)^{6-1} = \\frac{6!}{(6-1)!1!}.5^{1}(1-.5)^{6-1} = 0.09375\\\\\n",
    "P(X=2, k=2) = {6 \\choose 2}.5^{2}(1-.5)^{6-2} = \\frac{6!}{(6-2)!2!}.5^{2}(1-.5)^{6-2} = 0.234375\\\\\n",
    "P(X=3, k=3) = {6 \\choose 3}.5^{3}(1-.5)^{6-3} = \\frac{6!}{(6-3)!3!}.5^{3}(1-.5)^{6-3} = 0.3125\n",
    "$"
   ]
  },
  {
   "cell_type": "code",
   "execution_count": 174,
   "metadata": {},
   "outputs": [
    {
     "name": "stdout",
     "output_type": "stream",
     "text": [
      "0.0141\n",
      "0.0898\n",
      "0.2403\n",
      "0.3072\n"
     ]
    }
   ],
   "source": [
    "def prob_est(results,x):\n",
    "    S = 0\n",
    "    for ii in range(len(results)):\n",
    "        if results[ii]==x:\n",
    "            S += 1\n",
    "    return S/len(results)\n",
    "\n",
    "print (prob_est(results,0))\n",
    "print (prob_est(results,1))\n",
    "print (prob_est(results,2))\n",
    "print (prob_est(results,3))"
   ]
  },
  {
   "cell_type": "markdown",
   "metadata": {},
   "source": [
    "The above numbers are the estimated probabilties of $X=0,1,2,3$ in thier respective order based on the results of our simulation. They don't match exactly, but they are reasonably close to what the exact PMF predicts and the general trend they follow is certainly in line with the true PMF."
   ]
  },
  {
   "cell_type": "markdown",
   "metadata": {},
   "source": [
    "**Part C.** \n",
    "\n",
    "**[1]** Now write a simulator for Plinko with boundaries, and an argument for the number of rows. Your code should be similar to your code from **Part A**, with the following arguments:\n",
    "* `n` -- number of Plinko trials\n",
    "* `p_right` -- the probability of bouncing right at any given peg\n",
    "* `left_bound` -- the left boundary\n",
    "* `right_bound` -- the right boundary\n",
    "* `initial` -- the initial bin that you drop the disc above\n",
    "* `n_rows` -- number the rows on the plinko board. The board must have number of pegs in the bottom row equal to `n_rows`.\n",
    "\n",
    "**[2]** As a sanity check, use a 1-row board with `p_right=0.85`, and no left/right boundaries.  Run 10,000 trials and plot a density histogram of the results. The bins should be centered above the corresponding bin numbers, and the axes should be labeled. Does your result match you expect should happen? Explain."
   ]
  },
  {
   "cell_type": "code",
   "execution_count": 261,
   "metadata": {},
   "outputs": [
    {
     "data": {
      "text/plain": [
       "<matplotlib.text.Text at 0x28f0c692e48>"
      ]
     },
     "execution_count": 261,
     "metadata": {},
     "output_type": "execute_result"
    },
    {
     "data": {
      "image/png": "[encoded data removed]",
      "text/plain": [
       "<matplotlib.figure.Figure at 0x28f0c66e908>"
      ]
     },
     "metadata": {},
     "output_type": "display_data"
    }
   ],
   "source": [
    "def bounded_plinko_drop(n,p_right,left_bound,right_bound,initial,n_rows):\n",
    "    results = np.zeros(n)\n",
    "    for ii in range(n):\n",
    "        pos = initial\n",
    "        for jj in range(n_rows):\n",
    "            if pos==left_bound:\n",
    "                pos += .5\n",
    "            elif pos==right_bound:\n",
    "                pos -= .5\n",
    "            else:\n",
    "                pos += np.random.choice([-.5,.5],p=[1-p_right,p_right])\n",
    "        results[ii] = pos\n",
    "    return results\n",
    "\n",
    "boundResults = bounded_plinko_drop(10000,.85,np.nan,np.nan,.5,1)\n",
    "fig, ax = plt.subplots(figsize=(4,4))\n",
    "ax.xaxis.set_ticks(range(2))\n",
    "bins=range(3)\n",
    "ax.hist(boundResults,bins=bins,normed=True,align='left',facecolor=\"gold\",edgecolor=\"black\",rwidth=.5);\n",
    "ax.set_title('Plinko Bin Reulsts(Normalized)',fontsize=16)\n",
    "ax.set_xlabel('Final Bin',fontsize=16)\n",
    "ax.set_ylabel('Relative Frequency P(bin=X)',fontsize=12)"
   ]
  },
  {
   "cell_type": "markdown",
   "metadata": {},
   "source": [
    "The results above definitely match what we should expect to happen. Since the board has only 1 row, the decision to move left or right is only made a single time. In particular, a final bin result of 1 indicates the disk fell to the right, while a final bin result of 0 indicates the disk fell to the left. Over infinitely many trials, the relative frequencies of each result should match the probablities of falling in either direction. This is clearly reflected in the above histogram."
   ]
  },
  {
   "cell_type": "markdown",
   "metadata": {},
   "source": [
    "**Part D.**  Run 10,000 trials with left and right boundaries at 0.5 and 5.5, respectively, and a 6-row board. Drop the disc above Bin 3. Plot a density histogram of the results, simiarly to **Part C**."
   ]
  },
  {
   "cell_type": "code",
   "execution_count": 262,
   "metadata": {},
   "outputs": [
    {
     "data": {
      "text/plain": [
       "<matplotlib.text.Text at 0x28f0a349b70>"
      ]
     },
     "execution_count": 262,
     "metadata": {},
     "output_type": "execute_result"
    },
    {
     "data": {
      "image/png": "[encoded data removed]",
      "text/plain": [
       "<matplotlib.figure.Figure at 0x28f16ee4b70>"
      ]
     },
     "metadata": {},
     "output_type": "display_data"
    }
   ],
   "source": [
    "boundResults = bounded_plinko_drop(10000,.5,.5,5.5,3,6)\n",
    "bins = range(8)\n",
    "fig, ax = plt.subplots(figsize=(8,4))\n",
    "ax.hist(boundResults,bins=bins,normed=True,align='left',facecolor=\"gold\",edgecolor=\"black\");\n",
    "ax.set_title('Plinko Bin Reulsts(Normalized)',fontsize=20)\n",
    "ax.set_xlabel('Final Bin',fontsize=16)\n",
    "ax.set_ylabel('Relative Frequency P(bin=X)',fontsize=16)"
   ]
  },
  {
   "cell_type": "markdown",
   "metadata": {},
   "source": [
    "**Part E**:  Let $X$ be the random variable corresponding to the Bucket that the disc lands in for the situation in **Part C**.  Compare the approximate PMF for this board to the no-boundary board from **Part A/B**. Explain the mechanism that causes the differences between the two PMFs in words. Then, write down the **true** PMF for $X$."
   ]
  },
  {
   "cell_type": "markdown",
   "metadata": {},
   "source": [
    "The approximate PMFs of the bounded vs. non-bounded boards are quite similar with the exception of one aspect. The boundaries in the bounded board prevent the disk from having a final bin result of either 0 or 6, different from the unbounded board. In particular, the bounded board has roughly $P(X=1)$ equal to $P(X=1)+P(X=0)$ on the unbounded board. Via symmetry, it also has roughly $P(X=5)$ equal to $P(X=5)+P(X=6)$ on the unbounded board. $P(X=2,3,4)$ are roughly equal on both boards. This is because the only pathways the disk can take through the board to achieve these results are the same on both boards, meaning the probabilities of any of these results occurring should be equal. The 1 and 5 bins are have slightly higher probabilities in the bounded board because they need to absorb the probabilities that were being used for bins 0 and 6 in order for the total probability of the PMF to equal one. The true PMF of the bounded board is given by:\n",
    "$$\n",
    "P(X=1) = {6 \\choose 1}.5^{1}(1-.5)^{6-1} + {6 \\choose 0}.5^{0}(1-.5)^{6-0} = \\frac{6!}{(6-1)!1!}.5^{1}(1-.5)^{6-1} + \\frac{6!}{(6-0)!0!}.5^{0}(1-.5)^{6-0} = 0.015625 + 0.09375 = .109375\\\\\n",
    "P(X=2) = {6 \\choose 2}.5^{2}(1-.5)^{6-2} = \\frac{6!}{(6-2)!2!}.5^{2}(1-.5)^{6-2} = 0.234375\\\\\n",
    "P(X=3) = {6 \\choose 3}.5^{3}(1-.5)^{6-3} = \\frac{6!}{(6-3)!3!}.5^{3}(1-.5)^{6-3} = 0.3125\\\\\n",
    "P(X=4) = {6 \\choose 4}.5^{4}(1-.5)^{6-4} = \\frac{6!}{(6-4)!4!}.5^{4}(1-.5)^{6-4} = 0.234375\\\\\n",
    "P(X=5) = {6 \\choose 5}.5^{5}(1-.5)^{6-5} + {6 \\choose 6}.5^{6}(1-.5)^{6-6} = \\frac{5!}{(6-5)!5!}.5^{5}(1-.5)^{6-5} + \\frac{6!}{(6-6)!6!}.5^{6}(1-.5)^{6-6} = 0.015625 + 0.09375 = .109375\n",
    "$$"
   ]
  },
  {
   "cell_type": "markdown",
   "metadata": {},
   "source": [
    "**Part F**: Suppose I challenge you to a _friendly_ game of Plinko on the board from **Parts D** and **E**.\n",
    "* If the disc lands in bins 1 or 5, I will pay you \\$1\n",
    "* If the disc lands in bin 3, I will pay you \\$4\n",
    "* If the disc lands in bins 2 or 4, I will pay you nothing\n",
    "* I will also charge you a flat fee for each disc that you play.\n",
    "\n",
    "How much should I charge you per disc so that we break even in the long run? "
   ]
  },
  {
   "cell_type": "markdown",
   "metadata": {},
   "source": [
    "We need to calculate the expected value for the winnings of any given Plinko disk drop. This can be calculated using the winnings from each bin and the probabilities of landing in each bin. Specifically given the described prize structure:\n",
    "\n",
    "$$\n",
    "E[\\text{winnings}]=1P(X=1)+1P(X=5)+4P(X=3)+0P(X=2)+0P(X=4)\\\\\n",
    "                  =1(.109375)+1(.109375)+4(.3125)\\\\\n",
    "                  =2(.109375)+4(.3125)\\\\\n",
    "                  =1.46875\n",
    "$$\n",
    "\n",
    "Given that over the long run you will pay out \\$1.46875 per disc, you will need to charge \\$1.47 per disc to break even."
   ]
  },
  {
   "cell_type": "markdown",
   "metadata": {},
   "source": [
    "***"
   ]
  },
  {
   "cell_type": "markdown",
   "metadata": {},
   "source": [
    "### Challenge Fun Problem [0 points] - Real-Deal Plinko \n",
    "***\n",
    "\n",
    "Implement a full-blown Plinko simulator based on the actual board from Price is Right, which allows you to choose where to place the disc at the top of the board.  \n",
    "\n",
    "![alt text](https://i.pinimg.com/736x/7d/4b/5b/7d4b5b9ba5cdeceea16433eaadeeaf13--mash-game-plinko-game.jpg)\n",
    "\n",
    "You can actually do this using mostly your code from **Problem 3** and some careful handling of the boundaries relative to where you drop the disc.  Investigate questions like \"What is the optimal position to drop the disc to maximize expected winnings?\" and \"What are the expected winnings if you play Plinko optimally?\"\n",
    "\n",
    "Once you're done with that, it's time to go full-on Meta-Plinko.  Suppose the boundaries of the Plinko board are in their true positions from the real game show, but the board can have an arbitrary number of rows.  Is there a minimum number of rows the board can have at which point the PMF for the distribution becomes approximately uniform?  If not, is there a Bucket, or set of Buckets, that always have a greater chance of claiming the disc? \n"
   ]
  },
  {
   "cell_type": "markdown",
   "metadata": {},
   "source": [
    "<br>\n",
    "\n",
    "---\n",
    "### Notes\n",
    "\n",
    "<a/ id='rad'></a> 200 mSv is somewhere below Chernobyl levels of exposure, but more radiation than you would want with regard to potentially increasing your risk of cancer. It's probably too high, but it is a nice round number! More information [here](https://www.theguardian.com/news/datablog/2011/mar/15/radiation-exposure-levels-guide).\n",
    "\n",
    "[Back to Problem 2](#p2)"
   ]
  },
  {
   "cell_type": "code",
   "execution_count": null,
   "metadata": {
    "collapsed": true
   },
   "outputs": [],
   "source": []
  }
 ],
 "metadata": {
  "kernelspec": {
   "display_name": "Python 3",
   "language": "python",
   "name": "python3"
  },
  "language_info": {
   "codemirror_mode": {
    "name": "ipython",
    "version": 3
   },
   "file_extension": ".py",
   "mimetype": "text/x-python",
   "name": "python",
   "nbconvert_exporter": "python",
   "pygments_lexer": "ipython3",
   "version": "3.6.1"
  }
 },
 "nbformat": 4,
 "nbformat_minor": 2
}
